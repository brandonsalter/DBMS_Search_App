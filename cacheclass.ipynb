{
 "cells": [
  {
   "cell_type": "code",
   "execution_count": 1,
   "metadata": {},
   "outputs": [],
   "source": [
    "import heapq\n",
    "\n",
    "class SearchCache:\n",
    "    def __init__(self, max_size=35):\n",
    "        self.max_size = max_size\n",
    "        self.heap = []\n",
    "        self.cache = {}\n",
    "\n",
    "    def store_search(self, search_input, search_result):\n",
    "        # If cache is full, remove the oldest search\n",
    "        if len(self.cache) >= self.max_size:\n",
    "            oldest_search = heapq.heappop(self.heap)[1]\n",
    "            del self.cache[oldest_search]\n",
    "\n",
    "        # Add the new search input and result\n",
    "        self.cache[search_input] = search_result\n",
    "        heapq.heappush(self.heap, (time.time(), search_input))\n",
    "\n",
    "    def get_search_result(self, search_input):\n",
    "        # If search input is found in cache, return the result\n",
    "        if search_input in self.cache:\n",
    "            return self.cache[search_input]\n",
    "        else:\n",
    "            return None"
   ]
  },
  {
   "cell_type": "code",
   "execution_count": null,
   "metadata": {},
   "outputs": [],
   "source": []
  }
 ],
 "metadata": {
  "kernelspec": {
   "display_name": "search_app",
   "language": "python",
   "name": "python3"
  },
  "language_info": {
   "codemirror_mode": {
    "name": "ipython",
    "version": 3
   },
   "file_extension": ".py",
   "mimetype": "text/x-python",
   "name": "python",
   "nbconvert_exporter": "python",
   "pygments_lexer": "ipython3",
   "version": "3.10.14"
  }
 },
 "nbformat": 4,
 "nbformat_minor": 2
}
