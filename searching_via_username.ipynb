{
 "cells": [
  {
   "cell_type": "code",
   "execution_count": 1,
   "id": "b097c44c-15de-4e94-b84a-fbdabb1d0bcb",
   "metadata": {},
   "outputs": [
    {
     "data": {
      "text/plain": [
       "str"
      ]
     },
     "execution_count": 1,
     "metadata": {},
     "output_type": "execute_result"
    }
   ],
   "source": [
    "import pymongo\n",
    "with open('mongouri.txt', 'r') as file:\n",
    "    mongo_uri = file.read()\n",
    "type(mongo_uri)"
   ]
  },
  {
   "cell_type": "code",
   "execution_count": 2,
   "id": "4f1ee314",
   "metadata": {},
   "outputs": [],
   "source": [
    "import pymongo\n",
    "from pymongo import MongoClient\n",
    "from pymongo.server_api import ServerApi\n",
    "import re\n",
    "from search_functions import SearchInMongoDB"
   ]
  },
  {
   "cell_type": "code",
   "execution_count": 3,
   "id": "310403dd-3aa6-4e32-b06b-3c1953cd1227",
   "metadata": {},
   "outputs": [
    {
     "name": "stdout",
     "output_type": "stream",
     "text": [
      "SSL handshake failed: ac-hnqzezj-shard-00-01.4hvj9hx.mongodb.net:27017: [SSL: TLSV1_ALERT_INTERNAL_ERROR] tlsv1 alert internal error (_ssl.c:1007) (configured timeouts: socketTimeoutMS: 20000.0ms, connectTimeoutMS: 20000.0ms),SSL handshake failed: ac-hnqzezj-shard-00-00.4hvj9hx.mongodb.net:27017: [SSL: TLSV1_ALERT_INTERNAL_ERROR] tlsv1 alert internal error (_ssl.c:1007) (configured timeouts: socketTimeoutMS: 20000.0ms, connectTimeoutMS: 20000.0ms),SSL handshake failed: ac-hnqzezj-shard-00-02.4hvj9hx.mongodb.net:27017: [SSL: TLSV1_ALERT_INTERNAL_ERROR] tlsv1 alert internal error (_ssl.c:1007) (configured timeouts: socketTimeoutMS: 20000.0ms, connectTimeoutMS: 20000.0ms), Timeout: 30s, Topology Description: <TopologyDescription id: 662003bd9c03932b30442b1e, topology_type: ReplicaSetNoPrimary, servers: [<ServerDescription ('ac-hnqzezj-shard-00-00.4hvj9hx.mongodb.net', 27017) server_type: Unknown, rtt: None, error=AutoReconnect('SSL handshake failed: ac-hnqzezj-shard-00-00.4hvj9hx.mongodb.net:27017: [SSL: TLSV1_ALERT_INTERNAL_ERROR] tlsv1 alert internal error (_ssl.c:1007) (configured timeouts: socketTimeoutMS: 20000.0ms, connectTimeoutMS: 20000.0ms)')>, <ServerDescription ('ac-hnqzezj-shard-00-01.4hvj9hx.mongodb.net', 27017) server_type: Unknown, rtt: None, error=AutoReconnect('SSL handshake failed: ac-hnqzezj-shard-00-01.4hvj9hx.mongodb.net:27017: [SSL: TLSV1_ALERT_INTERNAL_ERROR] tlsv1 alert internal error (_ssl.c:1007) (configured timeouts: socketTimeoutMS: 20000.0ms, connectTimeoutMS: 20000.0ms)')>, <ServerDescription ('ac-hnqzezj-shard-00-02.4hvj9hx.mongodb.net', 27017) server_type: Unknown, rtt: None, error=AutoReconnect('SSL handshake failed: ac-hnqzezj-shard-00-02.4hvj9hx.mongodb.net:27017: [SSL: TLSV1_ALERT_INTERNAL_ERROR] tlsv1 alert internal error (_ssl.c:1007) (configured timeouts: socketTimeoutMS: 20000.0ms, connectTimeoutMS: 20000.0ms)')>]>\n"
     ]
    }
   ],
   "source": [
    "from pymongo.mongo_client import MongoClient\n",
    "from pymongo.server_api import ServerApi\n",
    "uri = mongo_uri\n",
    "\n",
    "# Create a new client and connect to the server\n",
    "client = MongoClient(uri)\n",
    "\n",
    "# Send a ping to confirm a successful connection\n",
    "try:\n",
    "    client.admin.command('ping')\n",
    "    print(\"Pinged your deployment. You successfully connected to MongoDB!\")\n",
    "except Exception as e:\n",
    "    print(e)\n"
   ]
  },
  {
   "cell_type": "code",
   "execution_count": null,
   "id": "afb5fe79",
   "metadata": {},
   "outputs": [],
   "source": [
    "app = SearchInMongoDB(uri, \"users\")"
   ]
  },
  {
   "cell_type": "code",
   "execution_count": 8,
   "id": "bdc6c2e3",
   "metadata": {},
   "outputs": [],
   "source": [
    "def display_results(results):\n",
    "    if not results:\n",
    "        print(\"No results found.\")\n",
    "        return\n",
    "    print(\"\\nResults:\")\n",
    "    for result in results:\n",
    "        print(result)"
   ]
  },
  {
   "cell_type": "markdown",
   "id": "3d670985",
   "metadata": {},
   "source": [
    "## Searching Toy"
   ]
  },
  {
   "cell_type": "code",
   "execution_count": null,
   "id": "ae6a7662",
   "metadata": {},
   "outputs": [],
   "source": [
    "def interactive_search(app):\n",
    "    while True:\n",
    "        print(\"\\nSelect a search option:\")\n",
    "        print(\"1. Search by Name or Screen Name\")\n",
    "        print(\"2. Search by ID\")\n",
    "        print(\"3. Search by Favourites Count\")\n",
    "        print(\"4. Search by Location\")\n",
    "        print(\"5. Search by Followers Count\")\n",
    "        print(\"6. Exit\")\n",
    "        choice = input(\"Choice: \")\n",
    "\n",
    "        if choice == \"1\":\n",
    "            name = input(\"Enter the name or screen name to search: \")\n",
    "            search_type = input(\"Enter 'fuzzy' for fuzzy search or 'exact' for exact search: \")\n",
    "            results = app.search_by_name(name, search_type)\n",
    "            display_results(results)\n",
    "        elif choice == \"2\":\n",
    "            id_str = input(\"Enter the user ID to search: \")\n",
    "            results = app.search_by_id_str(id_str)\n",
    "            display_results(results)\n",
    "        elif choice == \"3\":\n",
    "            min_favourites = int(input(\"Enter minimum favourites count: \"))\n",
    "            max_favourites = input(\"Enter maximum favourites count (or leave blank): \")\n",
    "            max_favourites = int(max_favourites) if max_favourites else None\n",
    "            results = app.search_by_favourites(min_favourites, max_favourites)\n",
    "            display_results(results)\n",
    "        elif choice == \"4\":\n",
    "            location = input(\"Enter the location to search: \")\n",
    "            results = app.search_by_location(location)\n",
    "            display_results(results)\n",
    "        elif choice == \"5\":\n",
    "            min_followers = int(input(\"Enter minimum number of followers: \"))\n",
    "            results = app.search_by_followers_count(min_followers)\n",
    "            display_results(results)\n",
    "        elif choice == \"6\":\n",
    "            print(\"Exiting search...\")\n",
    "            break\n",
    "        else:\n",
    "            print(\"Invalid choice. Please enter a valid option.\")\n",
    "\n"
   ]
  },
  {
   "cell_type": "markdown",
   "id": "dafeebdb",
   "metadata": {},
   "source": [
    "Divya"
   ]
  },
  {
   "cell_type": "markdown",
   "id": "fbeed945",
   "metadata": {},
   "source": [
    "Alternate in notebook"
   ]
  },
  {
   "cell_type": "code",
   "execution_count": null,
   "id": "013f178c",
   "metadata": {},
   "outputs": [],
   "source": [
    "class SearchInMongoDB(object):\n",
    "    def __init__(self, uri, collection_name, search_string):\n",
    "        self.client = MongoClient(uri)\n",
    "        self.db = self.client[\"twitter_database\"]\n",
    "        self.collection = self.db[collection_name]\n",
    "\n",
    "    def interactive_search(self):\n",
    "        while True:\n",
    "            print(\"\\nSelect a search option:\")\n",
    "            print(\"1. Search by Name or Screen Name\")\n",
    "            print(\"2. Search by ID\")\n",
    "            print(\"3. Search by Favourites Count\")\n",
    "            print(\"4. Search by Location\")\n",
    "            print(\"5. Search by Followers Count\")\n",
    "            print(\"6. Exit\")\n",
    "            choice = input(\"Choice: \")\n",
    "\n",
    "            if choice == \"1\":\n",
    "                search_string = input(\"Enter name or screen name to search: \")\n",
    "                results = self.fuzzy_search_by_name(search_string)\n",
    "                self.display_results(results)\n",
    "            elif choice == \"2\":\n",
    "                id_str = input(\"Enter user ID to search: \")\n",
    "                results = self.search_by_id_str(id_str)\n",
    "                self.display_results(results)\n",
    "            elif choice == \"3\":\n",
    "                self.search_by_favourites()\n",
    "            elif choice == \"4\":\n",
    "                location = input(\"Enter location to search: \")\n",
    "                results = self.search_by_location(location)\n",
    "                self.display_results(results)\n",
    "            elif choice == \"5\":\n",
    "                min_followers = int(input(\"Enter minimum number of followers: \"))\n",
    "                results = self.search_by_min_followers(min_followers)\n",
    "                self.display_results(results)\n",
    "            elif choice == \"6\":\n",
    "                print(\"Exiting search...\")\n",
    "                break\n",
    "            else:\n",
    "                print(\"Invalid choice. Please enter a valid option.\")\n",
    "\n",
    "    def fuzzy_search_by_name(self, search_string):\n",
    "        query = {\"$or\": [\n",
    "            {\"name\": {\"$regex\": re.escape(search_string), \"$options\": \"i\"}},\n",
    "            {\"screen_name\": {\"$regex\": re.escape(search_string), \"$options\": \"i\"}}\n",
    "        ]}\n",
    "        return list(self.collection.find(query))\n",
    "\n",
    "    def search_by_id_str(self, id_str):\n",
    "        return list(self.collection.find({\"id_str\": id_str}))\n",
    "\n",
    "    def search_by_favourites(self):\n",
    "        min_favourites = int(input(\"Enter minimum favourites count: \"))\n",
    "        results = self.collection.find({\"favourites_count\": {\"$gte\": min_favourites}}).sort(\"favourites_count\", -1)\n",
    "        self.display_results(results)\n",
    "\n",
    "    def search_by_location(self, location):\n",
    "        query = {\"location\": {\"$regex\": re.escape(location), \"$options\": \"i\"}}\n",
    "        return list(self.collection.find(query))\n",
    "\n",
    "    def search_by_min_followers(self, min_followers):\n",
    "        return list(self.collection.find({\"followers_count\": {\"$gte\": min_followers}}))\n",
    "\n",
    "    def display_results(self, results):\n",
    "        if not results:\n",
    "            print(\"No results found.\")\n",
    "            return\n",
    "        print(\"\\nResults:\")\n",
    "        for result in results:\n",
    "            print(result)\n"
   ]
  },
  {
   "cell_type": "markdown",
   "id": "aa5f3092",
   "metadata": {},
   "source": [
    "## Driver\n"
   ]
  },
  {
   "cell_type": "code",
   "execution_count": null,
   "id": "54937b6c",
   "metadata": {},
   "outputs": [],
   "source": [
    "def get_search_string():\n",
    "    print(\"=== Welcome to MongoDB Search ===\")\n",
    "    print(\"Enter the search string to find users:\")\n",
    "    search_string = input(\"Search: \")\n",
    "    print(\"================================\")\n",
    "    return search_string\n",
    "\n",
    "def display_search_results(results, search_type):\n",
    "    if results:\n",
    "        print(f\"=== Search Results for {search_type} ===\")\n",
    "        for idx, doc in enumerate(results, 1):\n",
    "            print(f\"Result {idx}:\")\n",
    "            print(doc)\n",
    "            print(\"--------------------------------\")\n",
    "        print(\"================================\")\n",
    "    else:\n",
    "        print(f\"No results found for {search_type}.\")\n",
    "\n",
    "# Replace 'your_collection_name' with the actual collection name\n",
    "collection_name = \"users\"\n",
    "\n",
    "# Get the search string from the user\n",
    "search_string = get_search_string()\n",
    "\n",
    "# Create an instance of SearchInMongoDB\n",
    "mongo_search = SearchInMongoDB(search_string, collection_name)\n",
    "\n",
    "# Display fuzzy search results\n",
    "display_search_results(mongo_search.fuzzy_search_result, \"Fuzzy Search\")\n",
    "\n",
    "# Display exact search results\n",
    "display_search_results(mongo_search.exact_search_result, \"Exact Search\")\n",
    "    \n",
    "# # Replace 'your_collection_name' with the actual collection name\n",
    "# collection_name = \"users\"\n",
    "\n",
    "# # Provide the search string\n",
    "# search_string = \"Uau\"\n",
    "\n",
    "# # Create an instance of SearchInMongoDB\n",
    "# mongo_search = SearchInMongoDB(search_string, collection_name)\n",
    "\n",
    "# print(\"HERE IS THE RESULT FOR FUZZY SEARCH\")\n",
    "# for doc in mongo_search.fuzzy_search_result:\n",
    "#     print(doc)\n",
    "\n",
    "# print(\"NEXT IS THE RESULT FOR EXACT SEARCH\")\n",
    "# for doc in mongo_search.exact_search_result:\n",
    "#     print(doc)\n"
   ]
  },
  {
   "cell_type": "markdown",
   "id": "86335b6e",
   "metadata": {},
   "source": [
    "# Testing Class"
   ]
  },
  {
   "cell_type": "code",
   "execution_count": null,
   "id": "431efb07",
   "metadata": {},
   "outputs": [],
   "source": []
  }
 ],
 "metadata": {
  "kernelspec": {
   "display_name": "Python 3 (ipykernel)",
   "language": "python",
   "name": "python3"
  },
  "language_info": {
   "codemirror_mode": {
    "name": "ipython",
    "version": 3
   },
   "file_extension": ".py",
   "mimetype": "text/x-python",
   "name": "python",
   "nbconvert_exporter": "python",
   "pygments_lexer": "ipython3",
   "version": "3.10.14"
  }
 },
 "nbformat": 4,
 "nbformat_minor": 5
}
