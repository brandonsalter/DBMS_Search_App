{
 "cells": [
  {
   "cell_type": "code",
   "execution_count": null,
   "metadata": {},
   "outputs": [],
   "source": [
    "def find_search_type():\n",
    "    input_1 = input(\"Are you searching for 'User Metrics' or 'Tweet Metrics' or 'User and Tweet Metrics' or 'Similar Tweets'?:\")\n",
    "\n",
    "    if input_1 == 'User Metrics':\n",
    "        print('this would go to a User Metrics query')\n",
    "\n",
    "    elif input_1 == 'Tweet Metrics':\n",
    "        print('this would go to a Tweet Metrics query')\n",
    "\n",
    "    elif input_1 == 'User and Tweet Metrics':\n",
    "        print('this would go to a user and tweet metrics query')\n",
    "\n",
    "    else:\n",
    "        input_2 = input(\"Enter your search:\")\n",
    "        print(f'now, we would compute a similarity metric between \"{input_2}\" and all tweets,\\n',\n",
    "               'sort this metric and return the top X%, ordered by some notion of relevance')"
   ]
  },
  {
   "cell_type": "code",
   "execution_count": null,
   "metadata": {},
   "outputs": [],
   "source": []
  }
 ],
 "metadata": {
  "kernelspec": {
   "display_name": "search_app",
   "language": "python",
   "name": "python3"
  },
  "language_info": {
   "codemirror_mode": {
    "name": "ipython",
    "version": 3
   },
   "file_extension": ".py",
   "mimetype": "text/x-python",
   "name": "python",
   "nbconvert_exporter": "python",
   "pygments_lexer": "ipython3",
   "version": "3.10.14"
  }
 },
 "nbformat": 4,
 "nbformat_minor": 2
}
