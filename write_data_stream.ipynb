{
 "cells": [
  {
   "cell_type": "markdown",
   "metadata": {},
   "source": [
    "# Notebook Author: \n",
    "### Brandon Salter "
   ]
  },
  {
   "cell_type": "code",
   "execution_count": null,
   "metadata": {},
   "outputs": [],
   "source": [
    "# link to data: https://drive.google.com/file/d/1KErBeVoLADCa16ck7ReCMkfiRF4Ly_Lp/view?usp=sharing"
   ]
  },
  {
   "cell_type": "markdown",
   "metadata": {},
   "source": [
    "# Dependencies"
   ]
  },
  {
   "cell_type": "code",
   "execution_count": 61,
   "metadata": {},
   "outputs": [
    {
     "name": "stdout",
     "output_type": "stream",
     "text": [
      "100\n",
      "100\n"
     ]
    }
   ],
   "source": [
    "import json \n",
    "from google.cloud import bigquery\n",
    "from google.oauth2 import service_account\n",
    "import pandas as pd\n",
    "from tqdm import tqdm\n",
    "import os\n",
    "lines = 101916*2\n",
    "print(pd.get_option('display.max_columns'))\n",
    "pd.set_option('display.max_columns', 100)\n",
    "print(pd.get_option('display.max_columns'))"
   ]
  },
  {
   "cell_type": "markdown",
   "metadata": {},
   "source": [
    "# Write Data to MongoDB and BigQuery"
   ]
  },
  {
   "cell_type": "code",
   "execution_count": 2,
   "metadata": {},
   "outputs": [],
   "source": [
    "path = '/Users/brandonsalter/Documents/TwitterSearchApp_694_Team4_2024/project_key.json'\n",
    "credentials = service_account.Credentials.from_service_account_file(path)\n",
    "\n",
    "project_id = 'msds-417117'\n",
    "client = bigquery.Client(credentials= credentials,project=project_id)"
   ]
  },
  {
   "cell_type": "code",
   "execution_count": 3,
   "metadata": {},
   "outputs": [
    {
     "name": "stdout",
     "output_type": "stream",
     "text": [
      "Created dataset msds-417117.Tweets\n",
      "Created dataset msds-417117.Retweets\n"
     ]
    }
   ],
   "source": [
    "tweets_dataset = \"msds-417117.Tweets\"\n",
    "tweets_table = \"msds-417117.Tweets.Tweets\"\n",
    "retweets_dataset = \"msds-417117.Retweets\"\n",
    "retweets_table = \"msds-417117.Retweets.Retweets\"\n",
    "\n",
    "def create_dataset(dataset_id):\n",
    "    # TODO(developer): Set dataset_id to the ID of the dataset to create.\n",
    "    # dataset_id = \"{}.your_dataset\".format(client.project)\n",
    "\n",
    "    # Construct a full Dataset object to send to the API.\n",
    "    dataset = bigquery.Dataset(dataset_id)\n",
    "\n",
    "    # TODO(developer): Specify the geographic location where the dataset should reside.\n",
    "    dataset.location = \"US\"\n",
    "\n",
    "    # Send the dataset to the API for creation, with an explicit timeout.\n",
    "    # Raises google.api_core.exceptions.Conflict if the Dataset already\n",
    "    # exists within the project.\n",
    "    dataset = client.create_dataset(dataset, timeout=30)  # Make an API request.\n",
    "    print(\"Created dataset {}.{}\".format(client.project, dataset.dataset_id))\n",
    "\n",
    "create_dataset(tweets_dataset)\n",
    "create_dataset(retweets_dataset)"
   ]
  },
  {
   "cell_type": "code",
   "execution_count": 4,
   "metadata": {},
   "outputs": [
    {
     "name": "stdout",
     "output_type": "stream",
     "text": [
      "Created table msds-417117.Tweets.Tweets\n"
     ]
    }
   ],
   "source": [
    "# TODO(developer): Set table_id to the ID of the table to create.\n",
    "# table_id = \"your-project.your_dataset.your_table_name\"\n",
    "\n",
    "tweet_schema = [\n",
    "    bigquery.SchemaField(\"created_at\", \"STRING\", mode=\"REQUIRED\"),\n",
    "    bigquery.SchemaField(\"hashtags\", \"STRING\", mode=\"REQUIRED\"),\n",
    "    bigquery.SchemaField(\"id_str_tweet\", \"STRING\", mode=\"REQUIRED\"),\n",
    "    bigquery.SchemaField(\"text\", \"STRING\", mode=\"REQUIRED\"),\n",
    "    # bigquery.SchemaField(\"favorite_count\", \"INTEGER\", mode=\"REQUIRED\"),\n",
    "    bigquery.SchemaField(\"lang\", \"STRING\", mode=\"REQUIRED\"),\n",
    "    # bigquery.SchemaField(\"place\", \"STRING\", mode=\"REQUIRED\"),\n",
    "    # bigquery.SchemaField(\"quote_count\", \"INTEGER\", mode=\"REQUIRED\"),\n",
    "    # bigquery.SchemaField(\"reply_count\", \"INTEGER\", mode=\"REQUIRED\"),\n",
    "    bigquery.SchemaField(\"retweet_count\", \"INTEGER\", mode=\"REQUIRED\"),\n",
    "    bigquery.SchemaField(\"favourites_count_user\", \"INTEGER\", mode=\"REQUIRED\"),\n",
    "    bigquery.SchemaField(\"followers_count_user\", \"INTEGER\", mode=\"REQUIRED\"),\n",
    "    bigquery.SchemaField(\"friends_count_user\", \"INTEGER\", mode=\"REQUIRED\"),\n",
    "    bigquery.SchemaField(\"id_str_user\", \"STRING\", mode=\"REQUIRED\"),\n",
    "    # bigquery.SchemaField(\"location_user\", \"STRING\", mode=\"REQUIRED\"),\n",
    "    bigquery.SchemaField(\"name_user\", \"STRING\", mode=\"REQUIRED\"),\n",
    "    bigquery.SchemaField(\"screen_name_user\", \"STRING\", mode=\"REQUIRED\"),\n",
    "    bigquery.SchemaField(\"statuses_count_user\", \"INTEGER\", mode=\"REQUIRED\"),\n",
    "    bigquery.SchemaField(\"verified_user\", \"STRING\", mode=\"REQUIRED\"),\n",
    "]\n",
    "\n",
    "table = bigquery.Table(tweets_table, schema=tweet_schema)\n",
    "table = client.create_table(table)  # Make an API request.\n",
    "print(\n",
    "    \"Created table {}.{}.{}\".format(table.project, table.dataset_id, table.table_id)\n",
    ")"
   ]
  },
  {
   "cell_type": "code",
   "execution_count": 5,
   "metadata": {},
   "outputs": [
    {
     "name": "stdout",
     "output_type": "stream",
     "text": [
      "Created table msds-417117.Retweets.Retweets\n"
     ]
    }
   ],
   "source": [
    "retweet_schema = [\n",
    "    bigquery.SchemaField(\"created_at\", \"STRING\", mode=\"REQUIRED\"),\n",
    "    bigquery.SchemaField(\"hashtags\", \"STRING\", mode=\"REQUIRED\"),\n",
    "    bigquery.SchemaField(\"id_str_retweet\", \"STRING\", mode=\"REQUIRED\"),\n",
    "    bigquery.SchemaField(\"text\", \"STRING\", mode=\"REQUIRED\"),\n",
    "    # bigquery.SchemaField(\"favorite_count\", \"INTEGER\", mode=\"REQUIRED\"),\n",
    "    bigquery.SchemaField(\"lang\", \"STRING\", mode=\"REQUIRED\"),\n",
    "    # bigquery.SchemaField(\"place\", \"STRING\", mode=\"REQUIRED\"),\n",
    "    # bigquery.SchemaField(\"quote_count\", \"INTEGER\", mode=\"REQUIRED\"),\n",
    "    # bigquery.SchemaField(\"reply_count\", \"INTEGER\", mode=\"REQUIRED\"),\n",
    "    bigquery.SchemaField(\"retweet_count\", \"INTEGER\", mode=\"REQUIRED\"),\n",
    "    bigquery.SchemaField(\"favourites_count_user\", \"INTEGER\", mode=\"REQUIRED\"),\n",
    "    bigquery.SchemaField(\"followers_count_user\", \"INTEGER\", mode=\"REQUIRED\"),\n",
    "    bigquery.SchemaField(\"friends_count_user\", \"INTEGER\", mode=\"REQUIRED\"),\n",
    "    bigquery.SchemaField(\"id_str_retweet_user\", \"STRING\", mode=\"REQUIRED\"),\n",
    "    # bigquery.SchemaField(\"location_user\", \"STRING\", mode=\"REQUIRED\"),\n",
    "    bigquery.SchemaField(\"name_user\", \"STRING\", mode=\"REQUIRED\"),\n",
    "    bigquery.SchemaField(\"screen_name_user\", \"STRING\", mode=\"REQUIRED\"),\n",
    "    bigquery.SchemaField(\"statuses_count_user\", \"INTEGER\", mode=\"REQUIRED\"),\n",
    "    bigquery.SchemaField(\"verified_user\", \"STRING\", mode=\"REQUIRED\"),\n",
    "    bigquery.SchemaField(\"id_str_tweet\", \"STRING\", mode=\"REQUIRED\"), # original tweet id\n",
    "    bigquery.SchemaField(\"id_str_tweet_user\", \"STRING\", mode=\"REQUIRED\"), # original tweet user id\n",
    "]\n",
    "\n",
    "table = bigquery.Table(retweets_table, schema=retweet_schema)\n",
    "table = client.create_table(table)  # Make an API request.\n",
    "print(\n",
    "    \"Created table {}.{}.{}\".format(table.project, table.dataset_id, table.table_id)\n",
    ")"
   ]
  },
  {
   "cell_type": "code",
   "execution_count": 80,
   "metadata": {},
   "outputs": [],
   "source": [
    "retweet_keys = [\"created_at\", \"hashtags\",\"id_str_retweet\", \"text\", \"lang\", \"retweet_count\", \n",
    "                \"favourites_count_user\", \"followers_count_user\", \"friends_count_user\", \n",
    "                \"id_str_retweet_user\", \"name_user\", \"screen_name_user\", \"statuses_count_user\", \n",
    "                \"verified_user\", \"id_str_tweet\", \"id_str_tweet_user\"]\n",
    "retweets_df = pd.DataFrame(columns=retweet_keys)\n",
    "\n",
    "tweet_keys = [\"created_at\", \"hashtags\", \"id_str_tweet\", \"text\", \"lang\", \"retweet_count\", \n",
    "              \"favourites_count_user\", \"followers_count_user\", \"friends_count_user\", \n",
    "              \"id_str_user\", \"name_user\", \"screen_name_user\", \"statuses_count_user\", \n",
    "              \"verified_user\"]\n",
    "tweets_df = pd.DataFrame(columns=tweet_keys)"
   ]
  },
  {
   "cell_type": "code",
   "execution_count": 56,
   "metadata": {},
   "outputs": [
    {
     "name": "stderr",
     "output_type": "stream",
     "text": [
      "100%|██████████| 203832/203832 [05:29<00:00, 618.19it/s]"
     ]
    },
    {
     "name": "stdout",
     "output_type": "stream",
     "text": [
      "tweet rows: 40804\n",
      "retweet rows: 61101\n"
     ]
    },
    {
     "name": "stderr",
     "output_type": "stream",
     "text": [
      "\n"
     ]
    }
   ],
   "source": [
    "tweets_set = () # to know if processed or not\n",
    "tweets = {} # tweet_id, retweet_count \n",
    "users = set()\n",
    "\n",
    "with open(\"corona-out-3.json\", \"r\") as f1:\n",
    "    for line in tqdm(f1, total=lines):\n",
    "        try:\n",
    "            data = json.loads(line)\n",
    "\n",
    "            # Unprocessed tweet\n",
    "            if data['id_str'] not in tweets_set:\n",
    "                \n",
    "                # add tweet/retweet id (distinct and not yet seen)\n",
    "                tweets[data['id_str']] = 0\n",
    "                \n",
    "                # extract hashtag values\n",
    "                hashtag = data['entities']['hashtags']\n",
    "                hashtag = ([key['text'] for key in hashtag] if len(hashtag) > 0 else ['NULL'])\n",
    "                hashtag = ', '.join(hashtag)\n",
    "\n",
    "                # Unprocessed Retweet\n",
    "                if (data['text'].startswith('RT')):\n",
    "\n",
    "                    # NOTE: streaming not allowed in BigQuery free tier\n",
    "                    \n",
    "                    #\"stream\" these keys to the Retweets table in BigQuery\n",
    "                    retweets_df.loc[len(retweets_df)] = {\"created_at\": data['created_at'],\n",
    "                                                        \"hashtags\": hashtag,\n",
    "                                                        \"id_str_retweet\": data['id_str'],\n",
    "                                                        \"text\": data['text'],\n",
    "                                                        # \"favorite_count\": data['favorite_count'],\n",
    "                                                        \"lang\": data['lang'],\n",
    "                                                        # \"place\": data['place'],\n",
    "                                                        # \"quote_count\": data['quote_count'],\n",
    "                                                        # \"reply_count\": data['reply_count'],\n",
    "                                                        \"retweet_count\": data['retweet_count'],\n",
    "                                                        \"favourites_count_user\": data['user']['favourites_count'],\n",
    "                                                        \"followers_count_user\": data['user']['followers_count'],\n",
    "                                                        \"friends_count_user\": data['user']['friends_count'],\n",
    "                                                        \"id_str_retweet_user\": data['user']['id_str'],\n",
    "                                                        # \"location_user\": data['user']['location'],\n",
    "                                                        \"name_user\": data['user']['name'],\n",
    "                                                        \"screen_name_user\": data['user']['screen_name'],\n",
    "                                                        \"statuses_count_user\": data['user']['statuses_count'],\n",
    "                                                        \"verified_user\": str(data['user']['verified']),\n",
    "                                                        \"id_str_tweet\": data['retweeted_status']['id_str'],\n",
    "                                                        \"id_str_tweet_user\": data['retweeted_status']['user']['id_str']}\n",
    "                    # Original tweet not processed yet\n",
    "                    if data['retweeted_status']['id_str'] not in tweets:\n",
    "                        tweets[data['retweeted_status']['id_str']] = 1    \n",
    "                    # Original tweet has been processed\n",
    "                    else:\n",
    "                        tweets[data['retweeted_status']['id_str']] += 1\n",
    "                \n",
    "                # Unprocessed Tweet\n",
    "                else:\n",
    "                    # \"stream\" these keys to the Tweets table in BigQuery\n",
    "                    tweets_df.loc[len(tweets_df)] = {\"created_at\": data['created_at'],\n",
    "                                                    \"hashtags\": hashtag,\n",
    "                                                    \"id_str_tweet\": data['id_str'],\n",
    "                                                    \"text\": data['text'],\n",
    "                                                    # \"favorite_count\": data['favorite_count'],\n",
    "                                                    \"lang\": data['lang'],\n",
    "                                                    # \"place\": data['place'],\n",
    "                                                    # \"quote_count\": data['quote_count'],\n",
    "                                                    # \"reply_count\": data['reply_count'],\n",
    "                                                    \"retweet_count\": data['retweet_count'],\n",
    "                                                    \"favourites_count_user\": data['user']['favourites_count'],\n",
    "                                                    \"followers_count_user\": data['user']['followers_count'],\n",
    "                                                    \"friends_count_user\": data['user']['friends_count'],\n",
    "                                                    \"id_str_user\": data['user']['id_str'],\n",
    "                                                    # \"location_user\": data['user']['location'],\n",
    "                                                    \"name_user\": data['user']['name'],\n",
    "                                                    \"screen_name_user\": data['user']['screen_name'],\n",
    "                                                    \"statuses_count_user\": data['user']['statuses_count'],\n",
    "                                                    \"verified_user\": str(data['user']['verified'])} \n",
    "                \n",
    "                tweets_set.add(data['id_str'])\n",
    "                                   \n",
    "            #user = data['user']\n",
    "            # psuedocode: \n",
    "            # if user has not been seen before\n",
    "            #            add to user table \n",
    "            # update datastores with any metrics that you are tracking \n",
    "            \n",
    "        except:\n",
    "            continue\n",
    "\n",
    "print('tweet rows:', len(tweets_df)) # 40793 --> 40804\n",
    "print('retweet rows:', len(retweets_df)) # 61090 --> 61101"
   ]
  },
  {
   "cell_type": "code",
   "execution_count": 71,
   "metadata": {},
   "outputs": [
    {
     "name": "stdout",
     "output_type": "stream",
     "text": [
      "22305\n",
      "0\n"
     ]
    }
   ],
   "source": [
    "rtcount = pd.DataFrame(pd.Series(tweets)).rename(columns={0:'retweet_count'})\n",
    "rt_count_tweets = pd.merge(tweets_df[['id_str_tweet']], rtcount, how='left', left_on='id_str_tweet', right_index=True)\n",
    "rt_count_retweets = pd.merge(retweets_df[['id_str_retweet']], rtcount, how='left', left_on='id_str_retweet', right_index=True)\n",
    "print(rt_count_tweets.retweet_count.sum())\n",
    "print(rt_count_retweets.retweet_count.sum())\n",
    "tweets_df['retweet_count'] = rt_count_tweets['retweet_count']"
   ]
  },
  {
   "cell_type": "code",
   "execution_count": 76,
   "metadata": {},
   "outputs": [],
   "source": [
    "# https://docs.python.org/3/library/functions.html#open\n",
    "try:\n",
    "    retweets_df.to_csv('retweets.csv', mode='x')\n",
    "except:\n",
    "    os.remove('retweets.csv')\n",
    "    retweets_df.to_csv('retweets.csv', mode='x')\n",
    "try:\n",
    "    tweets_df.to_csv('tweets.csv', mode='x')\n",
    "except:\n",
    "    os.remove('tweets.csv')\n",
    "    retweets_df.to_csv('tweets.csv', mode='x')"
   ]
  },
  {
   "cell_type": "code",
   "execution_count": 77,
   "metadata": {},
   "outputs": [],
   "source": [
    "# optional: you can pass in a job_config with a schema if you want to define\n",
    "# a specific schema\n",
    "retweet_job_config = bigquery.LoadJobConfig(schema=retweet_schema)\n",
    "tweet_job_config = bigquery.LoadJobConfig(schema=tweet_schema)"
   ]
  },
  {
   "cell_type": "code",
   "execution_count": 78,
   "metadata": {},
   "outputs": [
    {
     "data": {
      "text/plain": [
       "True"
      ]
     },
     "execution_count": 78,
     "metadata": {},
     "output_type": "execute_result"
    }
   ],
   "source": [
    "load_job = client.load_table_from_dataframe(\n",
    "    retweets_df, retweets_table,\n",
    "    job_config=retweet_job_config\n",
    ")  # this will execute the load job\n",
    "\n",
    "result = load_job.result()\n",
    "result.done() # prints True if done"
   ]
  },
  {
   "cell_type": "code",
   "execution_count": 79,
   "metadata": {},
   "outputs": [
    {
     "data": {
      "text/plain": [
       "True"
      ]
     },
     "execution_count": 79,
     "metadata": {},
     "output_type": "execute_result"
    }
   ],
   "source": [
    "load_job = client.load_table_from_dataframe(\n",
    "    tweets_df, tweets_table,\n",
    "    job_config=tweet_job_config\n",
    ")  # this will execute the load job\n",
    "\n",
    "result = load_job.result()\n",
    "result.done() # prints True if done"
   ]
  },
  {
   "cell_type": "code",
   "execution_count": null,
   "metadata": {},
   "outputs": [],
   "source": []
  }
 ],
 "metadata": {
  "kernelspec": {
   "display_name": "Python 3",
   "language": "python",
   "name": "python3"
  },
  "language_info": {
   "codemirror_mode": {
    "name": "ipython",
    "version": 3
   },
   "file_extension": ".py",
   "mimetype": "text/x-python",
   "name": "python",
   "nbconvert_exporter": "python",
   "pygments_lexer": "ipython3",
   "version": "3.10.14"
  },
  "toc": {
   "base_numbering": 1,
   "nav_menu": {},
   "number_sections": true,
   "sideBar": true,
   "skip_h1_title": false,
   "title_cell": "Table of Contents",
   "title_sidebar": "Contents",
   "toc_cell": false,
   "toc_position": {},
   "toc_section_display": true,
   "toc_window_display": false
  }
 },
 "nbformat": 4,
 "nbformat_minor": 2
}
