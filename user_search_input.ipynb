{
 "cells": [
  {
   "cell_type": "code",
   "execution_count": 18,
   "metadata": {},
   "outputs": [],
   "source": [
    "def determine_search_type():\n",
    "\n",
    "    ''' \n",
    "    \"The code must clearly document who wrote the code ...\" \n",
    "    document code with code by author who wrote the code to document the code with the author ...\n",
    "\n",
    "    Author: Brandon Salter\n",
    "\n",
    "    This function determines the type of search desired by the user.\n",
    "    '''\n",
    "\n",
    "    input_1 = input('Enter the number of one of the following search criteria:\\n\\\n",
    "                    1 - Search tweets by string\\n\\\n",
    "                    2 - Search tweets by hashtag\\n\\\n",
    "                    3 - Search for user\\n\\\n",
    "                    4 - Find the Top 10 users\\n\\\n",
    "                    5 - Find the Top 10 hottest tweets')\n",
    "    try:\n",
    "        int(input_1)\n",
    "    except:\n",
    "        return print('handle the error')\n",
    "        \n",
    "    if int(input_1) == 1:\n",
    "        print('need similarity metric for string on tweets')\n",
    "\n",
    "    elif int(input_1) == 2:\n",
    "        print('need similarity metric for string on hashtags')\n",
    "\n",
    "    elif int(input_1) == 3:\n",
    "        print('need need similarity metric for string on usernames')\n",
    "    \n",
    "    elif int(input_1) == 4:\n",
    "        print('need query')\n",
    "\n",
    "    elif int(input_1) == 5:\n",
    "        print('need query')\n",
    "\n",
    "    else:\n",
    "        return print('handle the error')"
   ]
  },
  {
   "cell_type": "code",
   "execution_count": 19,
   "metadata": {},
   "outputs": [
    {
     "name": "stdout",
     "output_type": "stream",
     "text": [
      "handle the error\n"
     ]
    }
   ],
   "source": [
    "find_search_type()"
   ]
  },
  {
   "cell_type": "code",
   "execution_count": null,
   "metadata": {},
   "outputs": [],
   "source": []
  },
  {
   "cell_type": "code",
   "execution_count": null,
   "metadata": {},
   "outputs": [],
   "source": []
  }
 ],
 "metadata": {
  "kernelspec": {
   "display_name": "search_app",
   "language": "python",
   "name": "python3"
  },
  "language_info": {
   "codemirror_mode": {
    "name": "ipython",
    "version": 3
   },
   "file_extension": ".py",
   "mimetype": "text/x-python",
   "name": "python",
   "nbconvert_exporter": "python",
   "pygments_lexer": "ipython3",
   "version": "3.10.14"
  }
 },
 "nbformat": 4,
 "nbformat_minor": 2
}
